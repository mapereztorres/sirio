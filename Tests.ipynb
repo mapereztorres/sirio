{
 "cells": [
  {
   "cell_type": "code",
   "execution_count": 1,
   "id": "b34231dd",
   "metadata": {},
   "outputs": [],
   "source": [
    "import numpy as np\n",
    "import matplotlib\n",
    "import matplotlib.pyplot as plt\n",
    "from matplotlib.offsetbox import OffsetImage, AnnotationBbox\n",
    "\n",
    "from SPIworkflow.__init__ import *\n",
    "from SPIworkflow.constants import *"
   ]
  },
  {
   "cell_type": "code",
   "execution_count": 2,
   "id": "2d0a488c",
   "metadata": {},
   "outputs": [],
   "source": [
    "def Kepler_r(M_star, P_orb):\n",
    "    \"\"\"Computes the orbital radius of a planet (=semimajor axis, in units of au)\n",
    "       orbiting a star of mass M_star (in solar masses) and orbital period, P_orb (in days)\n",
    "    \"\"\"\n",
    "    r_orb = (G * M_star*M_sun)**(1/3) * (P_orb*day/2/np.pi)**(2/3)/au\n",
    "    return r_orb"
   ]
  },
  {
   "cell_type": "code",
   "execution_count": 3,
   "id": "51eb3784",
   "metadata": {},
   "outputs": [
    {
     "name": "stdout",
     "output_type": "stream",
     "text": [
      "1.0003658870652499\n"
     ]
    }
   ],
   "source": [
    "print(Kepler_r(1.,365.4))"
   ]
  },
  {
   "cell_type": "code",
   "execution_count": 4,
   "id": "a7d7b6ed",
   "metadata": {},
   "outputs": [],
   "source": [
    "def Kepler_P(M_star, r_orb):\n",
    "    \"\"\"Computes the orbital period (P_orb) of a planet (in days) of a planet\n",
    "       orbiting a star of mass M_star (in solar masses) and semi-major axis (r_orb), in au.\n",
    "    \"\"\"\n",
    "    \n",
    "    P_orb = 2*np.pi * (G * M_star*M_sun)**(-1/2) * (r_orb*au)**(3/2)/day\n",
    "    return P_orb\n"
   ]
  },
  {
   "cell_type": "code",
   "execution_count": 5,
   "id": "bd488837",
   "metadata": {},
   "outputs": [
    {
     "name": "stdout",
     "output_type": "stream",
     "text": [
      "365.1995489803746\n"
     ]
    }
   ],
   "source": [
    "print(Kepler_P(1.,1.))"
   ]
  },
  {
   "cell_type": "code",
   "execution_count": 8,
   "id": "87bca900",
   "metadata": {},
   "outputs": [],
   "source": [
    "def Rp_Zeng(Mp = 1.0):\n",
    "    \"\"\" Computes the planet radius using the mass-radius relationship in \n",
    "        in Zeng et al. (PNAS, 2019): \n",
    "        https://www.pnas.org/content/116/20/9723\n",
    "        R [R_earth] = f * (M/M_earth)^(1/3.7)  (for rocky planets, f=1.)\n",
    "        \n",
    "        OUTPUT: Rp - planet radius, in units of Earth radius \n",
    "        INPUT:  Mp - planet mass, in units of Earth mass\n",
    "        We assume f = 1 (Earth-like rocky planet)\n",
    "    \"\"\"\n",
    "    f = 1.0\n",
    "    Rp = f * Mp**(1/3.7)\n",
    "    return Rp"
   ]
  },
  {
   "cell_type": "code",
   "execution_count": 11,
   "id": "6747fdbb",
   "metadata": {},
   "outputs": [
    {
     "name": "stdout",
     "output_type": "stream",
     "text": [
      "1.754197044080575\n"
     ]
    }
   ],
   "source": [
    "print(Rp_Zeng(8.0))"
   ]
  },
  {
   "cell_type": "code",
   "execution_count": 13,
   "id": "b12d9648",
   "metadata": {},
   "outputs": [],
   "source": [
    "def get_open_field_values(B_star, d_orb, R_star, vcorot, v_sw):\n",
    "    if open_field: \n",
    "        # Open Parker Spiral - Falls down with distances as R^(-2) rather than R^(-3) as in the dipole case\n",
    "        B_r = B_star * (d_orb/R_star)**(-2) # Stellar wind B-field at (R/R_star), Eqn 20 Turnpenney 2018\n",
    "        B_phi = B_r * v_corot/v_sw # Azimuthal field (Eqn 21 Turnpenney 2018)\n",
    "        B_sw = np.sqrt(B_r**2 + B_phi**2) # Total stellar wind B-field at planet orbital distance\n",
    "\n",
    "        # Eq. 23 of Turnpenney 2018 -  First term of RHS\n",
    "        B_ang = np.arctan(B_phi/B_r) # Angle the B-field makes with the radial direction\n",
    "\n",
    "        # Angle between the stellar wind magnetic field and the impinging plasma velocity\n",
    "        # Eqn 23 in Turnpenney 2018. It's also Eq. 13 in Zarka 2007\n",
    "        theta = np.absolute(B_ang - v_rel_angle) \n",
    "\n",
    "        # theta is the angle between the B_sw (the insterstellar magnetic field), and the\n",
    "        # incident stellar wind velocity.  See Fig. 1 in Turnpenney+2018\n",
    "        #\n",
    "        geom_f = (np.sin(theta))**2 # Geometric factor in efficiency \n",
    "    else:\n",
    "        # Closed, dipolar configuration - It falls with distance as R^(-3)\n",
    "        # B_star - magnetic field at the magnetic equator on the stellar surface\n",
    "        # \n",
    "        phi = 0. # azimuth, measured from the North magnetic pole of the star (in degrees)\n",
    "        phi *= np.pi/180. # to radians\n",
    "\n",
    "        B_r   = -2 * B_star * (d_orb/R_star)**(-3) * np.cos(phi) # Radial component of the dipole magnetic field of the stellar wind as f(distance to star)\n",
    "        B_phi = - B_star * (d_orb/R_star)**(-3) * np.sin(phi) # Azimuthal component of the dipole magnetic field \n",
    "        B_sw = np.sqrt(B_r**2 + B_phi**2) # Total dipole magnetic field \n",
    "\n",
    "        geom_f = 1.0 # Geometric factor. 1 for closed dipole configuration, different for the open field configuration\n",
    "\n",
    "        return B_r, B_phi, B_sw, B_ang, theta, geom_f"
   ]
  },
  {
   "cell_type": "code",
   "execution_count": 17,
   "id": "c02fe56c",
   "metadata": {},
   "outputs": [
    {
     "name": "stdout",
     "output_type": "stream",
     "text": [
      "1.633123935319537e+16\n"
     ]
    }
   ],
   "source": [
    "print(np.tan(np.pi/2.))"
   ]
  },
  {
   "cell_type": "code",
   "execution_count": 19,
   "id": "8e5df13c",
   "metadata": {},
   "outputs": [
    {
     "name": "stdout",
     "output_type": "stream",
     "text": [
      "1.5707963267948966\n"
     ]
    }
   ],
   "source": [
    "print(np.arctan(1.633123935319537e+16))"
   ]
  },
  {
   "cell_type": "code",
   "execution_count": 21,
   "id": "08427ed2",
   "metadata": {},
   "outputs": [
    {
     "name": "stdout",
     "output_type": "stream",
     "text": [
      "8.3631095e-25\n"
     ]
    }
   ],
   "source": [
    "print(0.5*m_p)"
   ]
  },
  {
   "cell_type": "code",
   "execution_count": null,
   "id": "fd28ab84",
   "metadata": {},
   "outputs": [],
   "source": []
  }
 ],
 "metadata": {
  "kernelspec": {
   "display_name": "Python 3 (ipykernel)",
   "language": "python",
   "name": "python3"
  },
  "language_info": {
   "codemirror_mode": {
    "name": "ipython",
    "version": 3
   },
   "file_extension": ".py",
   "mimetype": "text/x-python",
   "name": "python",
   "nbconvert_exporter": "python",
   "pygments_lexer": "ipython3",
   "version": "3.8.18"
  }
 },
 "nbformat": 4,
 "nbformat_minor": 5
}
