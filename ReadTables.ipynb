{
 "cells": [
  {
   "cell_type": "code",
   "execution_count": 1,
   "id": "e7fd707a",
   "metadata": {},
   "outputs": [],
   "source": [
    "# import statements\n",
    "import os\n",
    "#import shutil\n",
    "#import numpy as np\n",
    "import pandas as pd\n",
    "#import matplotlib\n",
    "#import matplotlib.pyplot as plt"
   ]
  },
  {
   "cell_type": "code",
   "execution_count": 2,
   "id": "ec655bd1",
   "metadata": {},
   "outputs": [],
   "source": [
    "import SPIworkflow.SPIutils as spi\n",
    "from SPIworkflow.__init__ import *\n",
    "from SPIworkflow.constants import *"
   ]
  },
  {
   "cell_type": "code",
   "execution_count": 3,
   "id": "a5406a77",
   "metadata": {},
   "outputs": [],
   "source": [
    "from SPIworkflow.data import get_spi_data\n",
    "from SPIworkflow.data import create_data_tables"
   ]
  },
  {
   "cell_type": "code",
   "execution_count": 4,
   "id": "cbea1641",
   "metadata": {},
   "outputs": [],
   "source": [
    "#data = get_spi_data()\n",
    "#data.head\n",
    "#data[:]"
   ]
  },
  {
   "cell_type": "code",
   "execution_count": 5,
   "id": "270f9af1",
   "metadata": {},
   "outputs": [],
   "source": [
    "#get_spi_data(distance_max=15, p_orb_max = 10, bfield_min=100, bfield_max=1000., dec_min=-54)\n",
    "\n"
   ]
  },
  {
   "cell_type": "code",
   "execution_count": 6,
   "id": "2197ecf0",
   "metadata": {},
   "outputs": [
    {
     "name": "stdout",
     "output_type": "stream",
     "text": [
      "Directory OUTPUT already exists.\n",
      "\n",
      "File OUTPUT/StarTable-CARMENES_only_planets.csv already exists. I will not overwrite it.\n",
      "\n",
      "File OUTPUT/StarTable-CARMENES_no_planets.csv already exists. I will not overwrite it.\n",
      "\n"
     ]
    },
    {
     "data": {
      "text/plain": [
       "(    Unnamed: 0  Unnamed: 0.1  Unnamed: 0.1.1      planet_name  \\\n",
       " 0            0             0               2         CD Cet b   \n",
       " 1            1             1              16       TOI-1685 b   \n",
       " 2            2             2              19         GJ 176 b   \n",
       " 3            3             3              20         GJ 176 c   \n",
       " 4            4             4              22         GJ 179 b   \n",
       " ..         ...           ...             ...              ...   \n",
       " 75          75            75             297         GJ 876 b   \n",
       " 76          76            76             298         GJ 876 c   \n",
       " 77          77            77             299         GJ 876 d   \n",
       " 78          78            78             300         GJ 876 e   \n",
       " 79          79            79             332  Ross 458 (AB) c   \n",
       " \n",
       "                  star_name p_rot(days)  v sin i source_p_rot  \\\n",
       " 0                  CD Cet        126.2      NaN          NaN   \n",
       " 1          PM J04343+4302        18.66      NaN          NaN   \n",
       " 2               HD 285968         40.7      NaN          NaN   \n",
       " 3               HD 285968         40.7      NaN          NaN   \n",
       " 4               Wolf 1539         NaN       NaN          NaN   \n",
       " ..                     ...         ...      ...          ...   \n",
       " 75                 IL Aqr           81      NaN          NaN   \n",
       " 76                 IL Aqr           81      NaN          NaN   \n",
       " 77                 IL Aqr           81      NaN          NaN   \n",
       " 78                 IL Aqr           81      NaN          NaN   \n",
       " 79                 Gl 494          2.8      NaN          NaN   \n",
       " \n",
       "     radius_planet(r_jup)  radius_planet(r_earth)  ...  bfield_star(gauss)  \\\n",
       " 0                 0.1284                1.439236  ...                 253   \n",
       " 1                 0.1520                1.703768  ...                 187   \n",
       " 2                 0.1533                1.718340  ...                 350   \n",
       " 3                 0.1506                1.688075  ...                 350   \n",
       " 4                 1.2400               13.899160  ...                 204   \n",
       " ..                   ...                     ...  ...                 ...   \n",
       " 75                1.1900               13.338710  ...                 197   \n",
       " 76                1.2500               14.011250  ...                 197   \n",
       " 77                0.1480                1.658932  ...                 197   \n",
       " 78                0.2172                2.434595  ...                 197   \n",
       " 79                1.0700               11.993630  ...                2600   \n",
       " \n",
       "    bfield_err(gauss)   p_orb(days)        source_p_orb        a(au)  \\\n",
       " 0                 90  2.290700e+00                 NaN     0.018500   \n",
       " 1                187  6.691403e-01                 NaN     0.011557   \n",
       " 2                 77  8.774800e+00                 NaN     0.066000   \n",
       " 3                 77  2.858600e+01                 NaN     0.146000   \n",
       " 4                204  2.288000e+03                 NaN     2.410000   \n",
       " ..               ...           ...                 ...          ...   \n",
       " 75                92  6.108200e+01                 NaN     0.214000   \n",
       " 76                92  3.012600e+01                 NaN     0.134000   \n",
       " 77                92  1.938000e+00                 NaN     0.021000   \n",
       " 78                92  1.244000e+02                 NaN     0.345000   \n",
       " 79               100  1.882257e+07  exoplanetkyoto.org  1168.000000   \n",
       " \n",
       "                                              source_a SP_TYPE  \\\n",
       " 0                                                 NaN  M4.5Ve   \n",
       " 1   https://exoplanets.nasa.gov/exoplanet-catalog/...   M2.65   \n",
       " 2                                                 NaN   M2.5V   \n",
       " 3                                                 NaN   M2.5V   \n",
       " 4                                                 NaN     M2V   \n",
       " ..                                                ...     ...   \n",
       " 75                                                NaN   M3.5V   \n",
       " 76                                                NaN   M3.5V   \n",
       " 77                                                NaN   M3.5V   \n",
       " 78                                                NaN   M3.5V   \n",
       " 79                                                NaN     M0V   \n",
       " \n",
       "               gal_l            gal_b  star_teff  \n",
       " 0   175d25m11.9783s  -43d10m24.1408s     3130.0  \n",
       " 1   160d09m29.8652s   -3d09m21.4948s     3434.0  \n",
       " 2   180d00m55.3157s  -17d25m35.4498s        NaN  \n",
       " 3   180d00m55.3157s  -17d25m35.4498s        NaN  \n",
       " 4   192d13m32.9309s   -22d51m45.094s     3370.0  \n",
       " ..              ...              ...        ...  \n",
       " 75   52d00m14.6123s  -59d37m48.3173s     3350.0  \n",
       " 76   52d00m14.6123s  -59d37m48.3173s     3350.0  \n",
       " 77   52d00m14.6123s  -59d37m48.3173s     3350.0  \n",
       " 78   52d00m14.6123s  -59d37m48.3173s     3350.0  \n",
       " 79  311d49m30.3846s   75d05m09.6969s        NaN  \n",
       " \n",
       " [80 rows x 34 columns],\n",
       " Empty DataFrame\n",
       " Columns: [Unnamed: 0, Unnamed: 0.1, Unnamed: 0.1.1, planet_name, star_name, p_rot(days), v sin i, source_p_rot, radius_planet(r_jup), radius_planet(r_earth), Unnamed: 8, source_radius, mass_planet(m_jup), mass_planet(m_earth), Unnamed: 12, source_mass, karm_id, ra(hms), dec(dms), ra(deg), dec(deg), d_star(pc), radius_star(r_sun), mass_star(m_sun), bfield_star(gauss), bfield_err(gauss), p_orb(days), source_p_orb, a(au), source_a, SP_TYPE, gal_l, gal_b, star_teff]\n",
       " Index: []\n",
       " \n",
       " [0 rows x 34 columns])"
      ]
     },
     "execution_count": 6,
     "metadata": {},
     "output_type": "execute_result"
    }
   ],
   "source": [
    "create_data_tables()\n"
   ]
  },
  {
   "cell_type": "code",
   "execution_count": null,
   "id": "316e774a",
   "metadata": {},
   "outputs": [],
   "source": []
  }
 ],
 "metadata": {
  "kernelspec": {
   "display_name": "Python 3 (ipykernel)",
   "language": "python",
   "name": "python3"
  },
  "language_info": {
   "codemirror_mode": {
    "name": "ipython",
    "version": 3
   },
   "file_extension": ".py",
   "mimetype": "text/x-python",
   "name": "python",
   "nbconvert_exporter": "python",
   "pygments_lexer": "ipython3",
   "version": "3.8.5"
  }
 },
 "nbformat": 4,
 "nbformat_minor": 5
}
