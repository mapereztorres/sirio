{
 "cells": [
  {
   "cell_type": "code",
   "execution_count": 1,
   "id": "13624fca",
   "metadata": {},
   "outputs": [],
   "source": [
    "import numpy as np"
   ]
  },
  {
   "cell_type": "code",
   "execution_count": 2,
   "id": "f84fd763",
   "metadata": {},
   "outputs": [
    {
     "name": "stdout",
     "output_type": "stream",
     "text": [
      "v_orb: 2.98e+06 cm/s\n",
      "r_orb: 1.50e+13 cm\n",
      "Omega_planet: 1.99e-07 rad/s\n",
      "Omega_earth: 7.27e-05 rad/s\n",
      "Omega_planet/Omega_earth: 2.73e-03\n"
     ]
    }
   ],
   "source": [
    "# cgs units\n",
    "Omega_E = 2*3.1415926/86400.\n",
    "G = 1./1.5e7\n",
    "M_star = 2e33\n",
    "r_orb = 1.5e13\n",
    "v_orb = (G * M_star/r_orb)**0.5\n",
    "Omega_planet = v_orb / r_orb\n",
    "print('v_orb: {0:.2e} cm/s'.format(v_orb))\n",
    "print('r_orb: {0:.2e} cm'.format(r_orb))\n",
    "print('Omega_planet: {0:.2e} rad/s'.format(Omega_planet))\n",
    "print('Omega_earth: {0:.2e} rad/s'.format(Omega_E))\n",
    "print('Omega_planet/Omega_earth: {0:.2e}'.format(Omega_planet/Omega_E))"
   ]
  },
  {
   "cell_type": "code",
   "execution_count": 3,
   "id": "d50e1798",
   "metadata": {},
   "outputs": [],
   "source": [
    "#SI units (From Sano 1993)\n",
    "mu = 4*np.pi* 1e-7\n",
    "sigma = 5e5\n",
    "rho = 1e4\n",
    "Omega = 7.3e-5\n",
    "length = 3.5e6\n",
    "B_pole = 3e-4"
   ]
  },
  {
   "cell_type": "code",
   "execution_count": 4,
   "id": "6c48e328",
   "metadata": {},
   "outputs": [
    {
     "name": "stdout",
     "output_type": "stream",
     "text": [
      "1.4015601642143423e-08\n"
     ]
    }
   ],
   "source": [
    "alpha = B_pole**2 / (2 * mu * rho * length * Omega)\n",
    "print(alpha)"
   ]
  },
  {
   "cell_type": "code",
   "execution_count": 5,
   "id": "b76da935",
   "metadata": {},
   "outputs": [
    {
     "name": "stdout",
     "output_type": "stream",
     "text": [
      "Magnetic_moment: 1.29e+16\n"
     ]
    }
   ],
   "source": [
    "Magn_mom = B_pole * length**3 \n",
    "print('Magnetic_moment: {0:.2e}'.format(Magn_mom))"
   ]
  },
  {
   "cell_type": "code",
   "execution_count": 6,
   "id": "1743c793",
   "metadata": {},
   "outputs": [
    {
     "name": "stdout",
     "output_type": "stream",
     "text": [
      "Magnetic_moment: 1.29e+16\n"
     ]
    }
   ],
   "source": [
    "Magn_mom = length**3 * np.sqrt(2 * mu * rho * length * alpha * Omega)\n",
    "print('Magnetic_moment: {0:.2e}'.format(Magn_mom))"
   ]
  },
  {
   "cell_type": "code",
   "execution_count": 12,
   "id": "03c33d89",
   "metadata": {},
   "outputs": [],
   "source": [
    "# SI units\n",
    "M_E = 5.97e24\n",
    "r_core_E = 3.5e6\n",
    "rho_core_E = 1.\n",
    "Omega_E = 2*np.pi/86400.\n",
    "bfield_E = 50e-6 # Earth's surface magnetic field, in Tesla "
   ]
  },
  {
   "cell_type": "code",
   "execution_count": 14,
   "id": "2f14ffdc",
   "metadata": {},
   "outputs": [
    {
     "name": "stdout",
     "output_type": "stream",
     "text": [
      "B_pl = 0.500 Gauss\n"
     ]
    }
   ],
   "source": [
    "B_pl = bfield_sano()\n",
    "print('B_pl = {0:.3f} Gauss'.format(B_pl))"
   ]
  },
  {
   "cell_type": "code",
   "execution_count": 13,
   "id": "22a010cc",
   "metadata": {},
   "outputs": [
    {
     "name": "stdout",
     "output_type": "stream",
     "text": [
      "B_pl = 0.500 Gauss\n"
     ]
    }
   ],
   "source": [
    "def bfield_sano(M_planet = M_E, r_core = r_core_E, rho_core = rho_core_E, Omega_planet = Omega_E):\n",
    "    \"\"\" Computes the surface magnetic field strength of a planet using the Sano scaling law.\n",
    "        (From Sano, J. Geomag. Geolectr., 45, 65-77, 1993)\n",
    "        OUTPUT: B_planet, in Gauss\n",
    "        INPUT : v_orb, M_planet, R_planet, rho_core\n",
    "                v_orb - orbital speed, in cm/s\n",
    "                M_planet - Planet mass, in g\n",
    "                rho_core - Planet outer core density, in g/cm^3. For now, fixed to the\n",
    "                value of the density of the Earth's outer core. \n",
    "    \"\"\"\n",
    "    mu_SI = 4.0 * np.pi * 1e-7  # vacuum permeability, in SI units (Newton/Ampere^2)\n",
    "    r_core = r_core_E * (M_planet / M_E)**0.44 # Scaling law from Curtis & NEss (1986)\n",
    "    alpha_E = bfield_E**2 / (2 * mu_SI * rho_core_E * r_core_E * Omega_E)\n",
    "    Magn_mom_E = bfield_E * r_core_E**3 # Magnetic moment of Earth in Amperes * m^(-2) - Reference needed\n",
    "    scaling_law = (rho_core / rho_core_E)**(1/2) * (Omega_planet / Omega_E) * (r_core / r_core_E)**(7/2) \n",
    "    Magn_moment_planet = Magn_mom_E * scaling_law\n",
    "    B_planet  = Magn_moment_planet / r_core**3 # in Tesla.  \n",
    "    B_planet *= 1e4 # In Gauss\n",
    " \n",
    "    return B_planet"
   ]
  },
  {
   "cell_type": "code",
   "execution_count": 33,
   "id": "3773eb42",
   "metadata": {},
   "outputs": [
    {
     "name": "stdout",
     "output_type": "stream",
     "text": [
      "B_pl = 0.359 \n"
     ]
    }
   ],
   "source": [
    "B_pl = bfield_sano(M_planet=0.79, R_planet = 1.086, P_rot_planet = 1.511)\n",
    "print('B_pl = {0:.3f} '.format(B_pl))"
   ]
  },
  {
   "cell_type": "code",
   "execution_count": 31,
   "id": "1973dbd4",
   "metadata": {},
   "outputs": [],
   "source": [
    "def bfield_sano(M_planet = 1.0, R_planet = 1.0, P_rot_planet = 1.0):\n",
    "    \"\"\" Computes the surface magnetic field strength of a planet using the Sano scaling law.\n",
    "        (From Sano, J. Geomag. Geolectr., 45, 65-77, 1993), \n",
    "        OUTPUT: B_planet: Surface magnetic field of the planet, in units of B_Earth \n",
    "        INPUT : M_planet: Planet radius, in units of the Earth mass\n",
    "                R_planet: in units of the Earth radius\n",
    "                P_rot_planet: Rotation period of the planet. It is assumed that the \n",
    "                        planets are tidally locked, hence P_rot_planet = P_orb_planet. \n",
    "                        In units of the rotation period of Earth, i.e., in days.\n",
    "                rho_core - Planet outer core density, in g/cm^3. For now, fixed to the\n",
    "                value of the density of the Earth's outer core. \n",
    "                \n",
    "    \"\"\"\n",
    "    # Scaling law for the planet's core radius, from Curtis & Ness (1986)\n",
    "    r_core = M_planet**0.44 # in units of r_core_Earth\n",
    "    Magn_moment_planet = 1./P_rot_planet * r_core**(7/2) # Magnetic moment, in units of Earth magn. moment\n",
    "    B_planet  = Magn_moment_planet / R_planet**3 # in units of B_earth\n",
    " \n",
    "    return B_planet"
   ]
  },
  {
   "cell_type": "code",
   "execution_count": 35,
   "id": "c581b6f7",
   "metadata": {},
   "outputs": [],
   "source": [
    "def bfield_sano(M_planet = 1.0, R_planet = 1.0, Omega_rot_planet = 1.0):\n",
    "    \"\"\" Computes the surface magnetic field strength of a planet using the Sano scaling law.\n",
    "        (From Sano, J. Geomag. Geolectr., 45, 65-77, 1993), \n",
    "        OUTPUT: B_planet: Surface magnetic field of the planet, in units of B_Earth \n",
    "        INPUT : M_planet: Planet radius, in units of the Earth mass\n",
    "                R_planet: in units of the Earth radius\n",
    "                Omega_rot_planet: Rotation period of the planet. It is assumed that the \n",
    "                        planets are tidally locked, hence P_rot_planet = P_orb_planet. \n",
    "                        In units of the rotation period of Earth, i.e., in days.\n",
    "                rho_core - Planet outer core density, in g/cm^3. For now, fixed to the\n",
    "                value of the density of the Earth's outer core. \n",
    "                \n",
    "    \"\"\"\n",
    "    # Scaling law for the planet's core radius, from Curtis & Ness (1986)\n",
    "    r_core = M_planet**0.44 # in units of r_core_Earth\n",
    "    Magn_moment_planet = Omega_rot_planet * r_core**(7/2) # Magnetic moment, in units of Earth magn. moment\n",
    "    B_planet  = Magn_moment_planet / R_planet**3 # in units of B_earth\n",
    " \n",
    "    return B_planet"
   ]
  },
  {
   "cell_type": "code",
   "execution_count": 36,
   "id": "2903e641",
   "metadata": {},
   "outputs": [
    {
     "name": "stdout",
     "output_type": "stream",
     "text": [
      "B_pl = 0.744 \n"
     ]
    }
   ],
   "source": [
    "B_pl = bfield_sano(M_planet=1.63, R_planet = 1.056, Omega_rot_planet = 1./2.422)\n",
    "print('B_pl = {0:.3f} '.format(B_pl))"
   ]
  },
  {
   "cell_type": "code",
   "execution_count": null,
   "id": "60ff5650",
   "metadata": {},
   "outputs": [],
   "source": []
  }
 ],
 "metadata": {
  "kernelspec": {
   "display_name": "Python 3 (ipykernel)",
   "language": "python",
   "name": "python3"
  },
  "language_info": {
   "codemirror_mode": {
    "name": "ipython",
    "version": 3
   },
   "file_extension": ".py",
   "mimetype": "text/x-python",
   "name": "python",
   "nbconvert_exporter": "python",
   "pygments_lexer": "ipython3",
   "version": "3.8.5"
  }
 },
 "nbformat": 4,
 "nbformat_minor": 5
}
