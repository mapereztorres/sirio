{
 "cells": [
  {
   "cell_type": "code",
   "execution_count": 1,
   "id": "b34231dd",
   "metadata": {},
   "outputs": [],
   "source": [
    "import numpy as np\n",
    "import matplotlib\n",
    "import matplotlib.pyplot as plt\n",
    "from matplotlib.offsetbox import OffsetImage, AnnotationBbox\n",
    "\n",
    "from SPIworkflow.__init__ import *\n",
    "from SPIworkflow.constants import *"
   ]
  },
  {
   "cell_type": "code",
   "execution_count": 2,
   "id": "2d0a488c",
   "metadata": {},
   "outputs": [],
   "source": [
    "def Kepler_r(M_star, P_orb):\n",
    "    \"\"\"Computes the orbital radius of a planet (=semimajor axis, in units of au)\n",
    "       orbiting a star of mass M_star (in solar masses) and orbital period, P_orb (in days)\n",
    "    \"\"\"\n",
    "    r_orb = (G * M_star*M_sun)**(1/3) * (P_orb*day/2/np.pi)**(2/3)/au\n",
    "    return r_orb"
   ]
  },
  {
   "cell_type": "code",
   "execution_count": 3,
   "id": "51eb3784",
   "metadata": {},
   "outputs": [
    {
     "name": "stdout",
     "output_type": "stream",
     "text": [
      "1.0003658870652499\n"
     ]
    }
   ],
   "source": [
    "print(Kepler_r(1.,365.4))"
   ]
  },
  {
   "cell_type": "code",
   "execution_count": 4,
   "id": "a7d7b6ed",
   "metadata": {},
   "outputs": [],
   "source": [
    "def Kepler_P(M_star, r_orb):\n",
    "    \"\"\"Computes the orbital period (P_orb) of a planet (in days) of a planet\n",
    "       orbiting a star of mass M_star (in solar masses) and semi-major axis (r_orb), in au.\n",
    "    \"\"\"\n",
    "    \n",
    "    P_orb = 2*np.pi * (G * M_star*M_sun)**(-1/2) * (r_orb*au)**(3/2)/day\n",
    "    return P_orb\n"
   ]
  },
  {
   "cell_type": "code",
   "execution_count": 5,
   "id": "bd488837",
   "metadata": {},
   "outputs": [
    {
     "name": "stdout",
     "output_type": "stream",
     "text": [
      "365.1995489803746\n"
     ]
    }
   ],
   "source": [
    "print(Kepler_P(1.,1.))"
   ]
  },
  {
   "cell_type": "code",
   "execution_count": null,
   "id": "87bca900",
   "metadata": {},
   "outputs": [],
   "source": []
  }
 ],
 "metadata": {
  "kernelspec": {
   "display_name": "Python 3 (ipykernel)",
   "language": "python",
   "name": "python3"
  },
  "language_info": {
   "codemirror_mode": {
    "name": "ipython",
    "version": 3
   },
   "file_extension": ".py",
   "mimetype": "text/x-python",
   "name": "python",
   "nbconvert_exporter": "python",
   "pygments_lexer": "ipython3",
   "version": "3.8.18"
  }
 },
 "nbformat": 4,
 "nbformat_minor": 5
}
