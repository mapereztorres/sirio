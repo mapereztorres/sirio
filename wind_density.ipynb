{
 "cells": [
  {
   "cell_type": "code",
   "execution_count": 1,
   "id": "be39d0b3",
   "metadata": {},
   "outputs": [],
   "source": [
    "# import statements\n",
    "import os\n",
    "import shutil\n",
    "import numpy as np\n",
    "import pandas as pd\n",
    "import matplotlib\n",
    "import matplotlib.pyplot as plt\n",
    "from matplotlib.offsetbox import OffsetImage, AnnotationBbox\n",
    "from scipy.special import lambertw\n",
    "\n",
    "matplotlib.rc_file_defaults()\n",
    "from SPIworkflow.__init__ import *\n",
    "\n",
    "# Import useful constants and functions to be used in the code\n",
    "from SPIworkflow.constants import *\n",
    "import SPIworkflow.SPIutils as spi\n",
    "from SPIworkflow.data import get_spi_data, create_data_tables"
   ]
  },
  {
   "cell_type": "code",
   "execution_count": 9,
   "id": "a7465d81",
   "metadata": {},
   "outputs": [],
   "source": [
    "def n_wind(M_star_dot=1.0, d=7e10, v_sw=25.6e5):\n",
    "    \"\"\" Computes the particle density of the stellar wind at some distance d from the\n",
    "        center of the star.\n",
    "        OUTPUT: n_sw - particle density of the stellar wind at distance d, in #/cm^3\n",
    "        INPUT:  M_star_dot - stellar mass-loss rate, in units of the Sun mass-loss rate\n",
    "                d          - distance from the center of the star, in cm\n",
    "                v_sw       - Speed of stellar wind at distance d, in cm/s\n",
    "    \"\"\"\n",
    "    M_sun_dot = 3e-14 # Sun mass-loss rate, equal to 2e-14 gr/cm^3\n",
    "    M_star_dot *= M_sun_dot * M_sun/yr2sec  # mass-loss rate, in grams/sec\n",
    "    m_av  =  1.92e-24 # average particle mass of the solar wind, in grams\n",
    "    rho = M_star_dot/(4*np.pi * d**2 * v_sw) # Density of the stellar wind, in gr/cm3\n",
    "    n_sw = rho / m_av\n",
    "    return n_sw"
   ]
  },
  {
   "cell_type": "code",
   "execution_count": 10,
   "id": "246c8101",
   "metadata": {},
   "outputs": [],
   "source": [
    "d=7e10\n",
    "v_sw=25.6e5\n",
    "M_star_dot = 1.0\n",
    "n_sw = n_wind(M_star_dot, d, v_sw)"
   ]
  },
  {
   "cell_type": "code",
   "execution_count": 11,
   "id": "74e7a285",
   "metadata": {},
   "outputs": [
    {
     "name": "stdout",
     "output_type": "stream",
     "text": [
      "The number density in the wind at a distance of 7.00e+10 cm is 6.25e+06 #/cm^3.\n"
     ]
    }
   ],
   "source": [
    "print(f'The number density in the wind at a distance of {d:.2e} cm is {n_wind():.2e} #/cm^3.')"
   ]
  },
  {
   "cell_type": "code",
   "execution_count": 15,
   "id": "6640cc85",
   "metadata": {},
   "outputs": [
    {
     "data": {
      "text/plain": [
       "6247965.998743558"
      ]
     },
     "execution_count": 15,
     "metadata": {},
     "output_type": "execute_result"
    }
   ],
   "source": [
    "n_wind()"
   ]
  },
  {
   "cell_type": "code",
   "execution_count": null,
   "id": "58fed222",
   "metadata": {},
   "outputs": [],
   "source": []
  }
 ],
 "metadata": {
  "kernelspec": {
   "display_name": "Python 3 (ipykernel)",
   "language": "python",
   "name": "python3"
  },
  "language_info": {
   "codemirror_mode": {
    "name": "ipython",
    "version": 3
   },
   "file_extension": ".py",
   "mimetype": "text/x-python",
   "name": "python",
   "nbconvert_exporter": "python",
   "pygments_lexer": "ipython3",
   "version": "3.8.16"
  }
 },
 "nbformat": 4,
 "nbformat_minor": 5
}
