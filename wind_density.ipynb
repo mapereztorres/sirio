{
 "cells": [
  {
   "cell_type": "code",
   "execution_count": 1,
   "id": "be39d0b3",
   "metadata": {},
   "outputs": [],
   "source": [
    "# import statements\n",
    "import os\n",
    "import shutil\n",
    "import numpy as np\n",
    "import pandas as pd\n",
    "import matplotlib\n",
    "import matplotlib.pyplot as plt\n",
    "from matplotlib.offsetbox import OffsetImage, AnnotationBbox\n",
    "from scipy.special import lambertw\n",
    "\n",
    "matplotlib.rc_file_defaults()\n",
    "from SPIworkflow.__init__ import *\n",
    "\n",
    "# Import useful constants and functions to be used in the code\n",
    "from SPIworkflow.constants import *\n",
    "import SPIworkflow.SPIutils as spi\n",
    "from SPIworkflow.data import get_spi_data, create_data_tables"
   ]
  },
  {
   "cell_type": "code",
   "execution_count": 26,
   "id": "95ce9ace",
   "metadata": {},
   "outputs": [],
   "source": [
    "# Assume fully ionized, purely hydrogen plasma (=> 50% protons, 50% electrons)\n",
    "mu = (0.5*m_p + 0.5*m_e)/(m_p + m_e) # mean \"molecular weight\""
   ]
  },
  {
   "cell_type": "code",
   "execution_count": 27,
   "id": "a7465d81",
   "metadata": {},
   "outputs": [],
   "source": [
    "def n_wind(M_star_dot=1.0, d=1.0, v_sw=25.6e5, mu=0.5):\n",
    "    \"\"\" Computes the particle density of the stellar wind at some distance d from the\n",
    "        center of the star.\n",
    "        OUTPUT: n_sw - particle density of the stellar wind at distance d, in #/cm^3\n",
    "        INPUT:  M_star_dot - stellar mass-loss rate, in units of the Sun mass-loss rate\n",
    "                d          - distance from the center of the star, in units of the Sun radius\n",
    "                v_sw       - Speed of stellar wind at distance d, in cm/s\n",
    "                mu         - mean molecular weight in the wind\n",
    "    \"\"\"\n",
    "    M_sun_dot = 2e-14 # Sun mass-loss rate, equal to 2e-14 gr/cm^3\n",
    "    M_star_dot *= M_sun_dot * M_sun/yr2sec  # mass-loss rate, in grams/sec\n",
    "    d *= R_sun # distance, in cm\n",
    "    m_av  =  mu * m_p # average particle mass of the solar wind, in grams\n",
    "    rho = M_star_dot/(4*np.pi * d**2 * v_sw) # Density of the stellar wind, in gr/cm3\n",
    "    n_sw = rho / m_av\n",
    "    return n_sw"
   ]
  },
  {
   "cell_type": "code",
   "execution_count": 33,
   "id": "246c8101",
   "metadata": {},
   "outputs": [
    {
     "name": "stdout",
     "output_type": "stream",
     "text": [
      "The number density in the wind at a distance of 1.000 solar radii is 9.91e+06 #/cm^3.\n"
     ]
    }
   ],
   "source": [
    "# For Proxima Centauri, at one stellar radius (i.e., at the surface of the star)\n",
    "d=1.0\n",
    "v_sw=25.0e5\n",
    "M_star_dot = 1.0\n",
    "n_sw = n_wind(M_star_dot, d, v_sw, mu)\n",
    "print(f'The number density in the wind at a distance of {d:.3f} solar radii is {n_sw:.2e} #/cm^3.')"
   ]
  },
  {
   "cell_type": "code",
   "execution_count": null,
   "id": "b8dc905d",
   "metadata": {},
   "outputs": [],
   "source": []
  },
  {
   "cell_type": "code",
   "execution_count": null,
   "id": "1627152d",
   "metadata": {},
   "outputs": [],
   "source": []
  }
 ],
 "metadata": {
  "kernelspec": {
   "display_name": "Python 3 (ipykernel)",
   "language": "python",
   "name": "python3"
  },
  "language_info": {
   "codemirror_mode": {
    "name": "ipython",
    "version": 3
   },
   "file_extension": ".py",
   "mimetype": "text/x-python",
   "name": "python",
   "nbconvert_exporter": "python",
   "pygments_lexer": "ipython3",
   "version": "3.8.16"
  }
 },
 "nbformat": 4,
 "nbformat_minor": 5
}
